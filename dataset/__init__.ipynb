{
 "cells": [
  {
   "cell_type": "code",
   "execution_count": null,
   "metadata": {},
   "outputs": [],
   "source": [
    "from bs4 import BeautifulSoup as bs\n",
    "import requests\n",
    "import pandas as pd"
   ]
  },
  {
   "cell_type": "code",
   "execution_count": null,
   "metadata": {},
   "outputs": [],
   "source": [
    "# Define the URL and fetch its content\n",
    "url = \"https://paperswithcode.com/task/text-classification\"\n",
    "html = requests.get(url)\n",
    "data = bs(html.content, \"html.parser\")\n",
    "\n",
    "titles = data.find_all('h1')\n",
    "\n",
    "\n",
    "for title in titles:\n",
    "    print(title.text)"
   ]
  },
  {
   "cell_type": "code",
   "execution_count": null,
   "metadata": {},
   "outputs": [],
   "source": [
    "# Find all links ('a' tags) in the HTML content and create a list containing links that start with '/paper/'\n",
    "links = data.find_all('a')\n",
    "link_list = [link.get('href') for link in links if link.get('href') and link.get('href').startswith('/paper/')]\n",
    "\n",
    "\n",
    "print(\"Number of items in the list:\", len(link_list))"
   ]
  },
  {
   "cell_type": "code",
   "execution_count": null,
   "metadata": {},
   "outputs": [],
   "source": [
    "#clean the list\n",
    "new_link_list = [link.split('#code')[0] for link in link_list]\n",
    "\n",
    "# Remove duplicates from the list\n",
    "new_link_list = set(new_link_list)\n",
    "print(\"Number of items in the list::\", len(new_link_list))\n",
    "df = pd.DataFrame(new_link_list, columns=['Link'])\n",
    "df"
   ]
  },
  {
   "cell_type": "code",
   "execution_count": null,
   "metadata": {},
   "outputs": [],
   "source": [
    "import csv \n",
    "urls = list(new_link_list)\n",
    "abstracts = []\n",
    "\n",
    "# Loop through the list of URLs and fetch the abstracts\n",
    "for url in urls:\n",
    "    full_url = 'https://paperswithcode.com' + url\n",
    "    response = requests.get(full_url)\n",
    "    soup = bs(response.text, 'html.parser')\n",
    "   \n",
    "    abstract_div = soup.find('div', class_='paper-abstract')\n",
    "    abstract = abstract_div.p.text\n",
    "    abstracts.append(abstract)\n",
    "\n",
    "with open('abstracts.csv', 'w', newline='', encoding='utf-8') as file:\n",
    "    writer = csv.writer(file)\n",
    "    writer.writerow(['Abstract']) \n",
    "\n",
    "    for abstract in abstracts:\n",
    "        writer.writerow([abstract])\n",
    "\n",
    "print('Abstracts saved to abstracts.csv')"
   ]
  },
  {
   "cell_type": "code",
   "execution_count": null,
   "metadata": {},
   "outputs": [],
   "source": [
    "df = pd.read_csv('abstracts.csv', sep=',')\n",
    "df.head()"
   ]
  },
  {
   "cell_type": "code",
   "execution_count": null,
   "metadata": {},
   "outputs": [],
   "source": []
  },
  {
   "cell_type": "code",
   "execution_count": null,
   "metadata": {},
   "outputs": [],
   "source": []
  },
  {
   "cell_type": "code",
   "execution_count": null,
   "metadata": {},
   "outputs": [],
   "source": []
  },
  {
   "cell_type": "code",
   "execution_count": null,
   "metadata": {},
   "outputs": [],
   "source": []
  }
 ],
 "metadata": {
  "kernelspec": {
   "display_name": "textS",
   "language": "python",
   "name": "python3"
  },
  "language_info": {
   "codemirror_mode": {
    "name": "ipython",
    "version": 3
   },
   "file_extension": ".py",
   "mimetype": "text/x-python",
   "name": "python",
   "nbconvert_exporter": "python",
   "pygments_lexer": "ipython3",
   "version": "3.8.0"
  }
 },
 "nbformat": 4,
 "nbformat_minor": 2
}
