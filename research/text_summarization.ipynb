{
 "cells": [
  {
   "cell_type": "code",
   "execution_count": 2,
   "metadata": {},
   "outputs": [
    {
     "name": "stdout",
     "output_type": "stream",
     "text": [
      "Requirement already satisfied: transformers==4.37.2 in c:\\users\\uurce\\anaconda3\\envs\\texts\\lib\\site-packages (4.37.2)\n",
      "Requirement already satisfied: filelock in c:\\users\\uurce\\anaconda3\\envs\\texts\\lib\\site-packages (from transformers==4.37.2) (3.13.1)\n",
      "Requirement already satisfied: huggingface-hub<1.0,>=0.19.3 in c:\\users\\uurce\\anaconda3\\envs\\texts\\lib\\site-packages (from transformers==4.37.2) (0.21.4)\n",
      "Requirement already satisfied: numpy>=1.17 in c:\\users\\uurce\\anaconda3\\envs\\texts\\lib\\site-packages (from transformers==4.37.2) (1.24.4)\n",
      "Requirement already satisfied: packaging>=20.0 in c:\\users\\uurce\\anaconda3\\envs\\texts\\lib\\site-packages (from transformers==4.37.2) (24.0)\n",
      "Requirement already satisfied: pyyaml>=5.1 in c:\\users\\uurce\\anaconda3\\envs\\texts\\lib\\site-packages (from transformers==4.37.2) (6.0.1)\n",
      "Requirement already satisfied: regex!=2019.12.17 in c:\\users\\uurce\\anaconda3\\envs\\texts\\lib\\site-packages (from transformers==4.37.2) (2023.12.25)\n",
      "Requirement already satisfied: requests in c:\\users\\uurce\\anaconda3\\envs\\texts\\lib\\site-packages (from transformers==4.37.2) (2.31.0)\n",
      "Requirement already satisfied: tokenizers<0.19,>=0.14 in c:\\users\\uurce\\anaconda3\\envs\\texts\\lib\\site-packages (from transformers==4.37.2) (0.15.2)\n",
      "Requirement already satisfied: safetensors>=0.4.1 in c:\\users\\uurce\\anaconda3\\envs\\texts\\lib\\site-packages (from transformers==4.37.2) (0.4.2)\n",
      "Requirement already satisfied: tqdm>=4.27 in c:\\users\\uurce\\anaconda3\\envs\\texts\\lib\\site-packages (from transformers==4.37.2) (4.66.2)\n",
      "Requirement already satisfied: fsspec>=2023.5.0 in c:\\users\\uurce\\anaconda3\\envs\\texts\\lib\\site-packages (from huggingface-hub<1.0,>=0.19.3->transformers==4.37.2) (2023.10.0)\n",
      "Requirement already satisfied: typing-extensions>=3.7.4.3 in c:\\users\\uurce\\anaconda3\\envs\\texts\\lib\\site-packages (from huggingface-hub<1.0,>=0.19.3->transformers==4.37.2) (4.10.0)\n",
      "Requirement already satisfied: colorama in c:\\users\\uurce\\anaconda3\\envs\\texts\\lib\\site-packages (from tqdm>=4.27->transformers==4.37.2) (0.4.6)\n",
      "Requirement already satisfied: charset-normalizer<4,>=2 in c:\\users\\uurce\\anaconda3\\envs\\texts\\lib\\site-packages (from requests->transformers==4.37.2) (3.3.2)\n",
      "Requirement already satisfied: idna<4,>=2.5 in c:\\users\\uurce\\anaconda3\\envs\\texts\\lib\\site-packages (from requests->transformers==4.37.2) (3.6)\n",
      "Requirement already satisfied: urllib3<3,>=1.21.1 in c:\\users\\uurce\\anaconda3\\envs\\texts\\lib\\site-packages (from requests->transformers==4.37.2) (1.26.18)\n",
      "Requirement already satisfied: certifi>=2017.4.17 in c:\\users\\uurce\\anaconda3\\envs\\texts\\lib\\site-packages (from requests->transformers==4.37.2) (2024.2.2)\n",
      "Requirement already satisfied: datasets==2.17.0 in c:\\users\\uurce\\anaconda3\\envs\\texts\\lib\\site-packages (2.17.0)\n",
      "Requirement already satisfied: filelock in c:\\users\\uurce\\anaconda3\\envs\\texts\\lib\\site-packages (from datasets==2.17.0) (3.13.1)\n",
      "Requirement already satisfied: numpy>=1.17 in c:\\users\\uurce\\anaconda3\\envs\\texts\\lib\\site-packages (from datasets==2.17.0) (1.24.4)\n",
      "Requirement already satisfied: pyarrow>=12.0.0 in c:\\users\\uurce\\anaconda3\\envs\\texts\\lib\\site-packages (from datasets==2.17.0) (15.0.2)\n",
      "Requirement already satisfied: pyarrow-hotfix in c:\\users\\uurce\\anaconda3\\envs\\texts\\lib\\site-packages (from datasets==2.17.0) (0.6)\n",
      "Requirement already satisfied: dill<0.3.9,>=0.3.0 in c:\\users\\uurce\\anaconda3\\envs\\texts\\lib\\site-packages (from datasets==2.17.0) (0.3.8)\n",
      "Requirement already satisfied: pandas in c:\\users\\uurce\\anaconda3\\envs\\texts\\lib\\site-packages (from datasets==2.17.0) (2.0.3)\n",
      "Requirement already satisfied: requests>=2.19.0 in c:\\users\\uurce\\anaconda3\\envs\\texts\\lib\\site-packages (from datasets==2.17.0) (2.31.0)\n",
      "Requirement already satisfied: tqdm>=4.62.1 in c:\\users\\uurce\\anaconda3\\envs\\texts\\lib\\site-packages (from datasets==2.17.0) (4.66.2)\n",
      "Requirement already satisfied: xxhash in c:\\users\\uurce\\anaconda3\\envs\\texts\\lib\\site-packages (from datasets==2.17.0) (3.4.1)\n",
      "Requirement already satisfied: multiprocess in c:\\users\\uurce\\anaconda3\\envs\\texts\\lib\\site-packages (from datasets==2.17.0) (0.70.16)\n",
      "Requirement already satisfied: fsspec<=2023.10.0,>=2023.1.0 in c:\\users\\uurce\\anaconda3\\envs\\texts\\lib\\site-packages (from fsspec[http]<=2023.10.0,>=2023.1.0->datasets==2.17.0) (2023.10.0)\n",
      "Requirement already satisfied: aiohttp in c:\\users\\uurce\\anaconda3\\envs\\texts\\lib\\site-packages (from datasets==2.17.0) (3.9.3)\n",
      "Requirement already satisfied: huggingface-hub>=0.19.4 in c:\\users\\uurce\\anaconda3\\envs\\texts\\lib\\site-packages (from datasets==2.17.0) (0.21.4)\n",
      "Requirement already satisfied: packaging in c:\\users\\uurce\\anaconda3\\envs\\texts\\lib\\site-packages (from datasets==2.17.0) (24.0)\n",
      "Requirement already satisfied: pyyaml>=5.1 in c:\\users\\uurce\\anaconda3\\envs\\texts\\lib\\site-packages (from datasets==2.17.0) (6.0.1)\n",
      "Requirement already satisfied: aiosignal>=1.1.2 in c:\\users\\uurce\\anaconda3\\envs\\texts\\lib\\site-packages (from aiohttp->datasets==2.17.0) (1.3.1)\n",
      "Requirement already satisfied: attrs>=17.3.0 in c:\\users\\uurce\\anaconda3\\envs\\texts\\lib\\site-packages (from aiohttp->datasets==2.17.0) (23.2.0)\n",
      "Requirement already satisfied: frozenlist>=1.1.1 in c:\\users\\uurce\\anaconda3\\envs\\texts\\lib\\site-packages (from aiohttp->datasets==2.17.0) (1.4.1)\n",
      "Requirement already satisfied: multidict<7.0,>=4.5 in c:\\users\\uurce\\anaconda3\\envs\\texts\\lib\\site-packages (from aiohttp->datasets==2.17.0) (6.0.5)\n",
      "Requirement already satisfied: yarl<2.0,>=1.0 in c:\\users\\uurce\\anaconda3\\envs\\texts\\lib\\site-packages (from aiohttp->datasets==2.17.0) (1.9.4)\n",
      "Requirement already satisfied: async-timeout<5.0,>=4.0 in c:\\users\\uurce\\anaconda3\\envs\\texts\\lib\\site-packages (from aiohttp->datasets==2.17.0) (4.0.3)\n",
      "Requirement already satisfied: typing-extensions>=3.7.4.3 in c:\\users\\uurce\\anaconda3\\envs\\texts\\lib\\site-packages (from huggingface-hub>=0.19.4->datasets==2.17.0) (4.10.0)\n",
      "Requirement already satisfied: charset-normalizer<4,>=2 in c:\\users\\uurce\\anaconda3\\envs\\texts\\lib\\site-packages (from requests>=2.19.0->datasets==2.17.0) (3.3.2)\n",
      "Requirement already satisfied: idna<4,>=2.5 in c:\\users\\uurce\\anaconda3\\envs\\texts\\lib\\site-packages (from requests>=2.19.0->datasets==2.17.0) (3.6)\n",
      "Requirement already satisfied: urllib3<3,>=1.21.1 in c:\\users\\uurce\\anaconda3\\envs\\texts\\lib\\site-packages (from requests>=2.19.0->datasets==2.17.0) (1.26.18)\n",
      "Requirement already satisfied: certifi>=2017.4.17 in c:\\users\\uurce\\anaconda3\\envs\\texts\\lib\\site-packages (from requests>=2.19.0->datasets==2.17.0) (2024.2.2)\n",
      "Requirement already satisfied: colorama in c:\\users\\uurce\\anaconda3\\envs\\texts\\lib\\site-packages (from tqdm>=4.62.1->datasets==2.17.0) (0.4.6)\n",
      "Requirement already satisfied: python-dateutil>=2.8.2 in c:\\users\\uurce\\anaconda3\\envs\\texts\\lib\\site-packages (from pandas->datasets==2.17.0) (2.9.0)\n",
      "Requirement already satisfied: pytz>=2020.1 in c:\\users\\uurce\\anaconda3\\envs\\texts\\lib\\site-packages (from pandas->datasets==2.17.0) (2024.1)\n",
      "Requirement already satisfied: tzdata>=2022.1 in c:\\users\\uurce\\anaconda3\\envs\\texts\\lib\\site-packages (from pandas->datasets==2.17.0) (2024.1)\n",
      "Requirement already satisfied: six>=1.5 in c:\\users\\uurce\\anaconda3\\envs\\texts\\lib\\site-packages (from python-dateutil>=2.8.2->pandas->datasets==2.17.0) (1.16.0)\n",
      "Requirement already satisfied: evaluate==0.4.1 in c:\\users\\uurce\\anaconda3\\envs\\texts\\lib\\site-packages (0.4.1)\n",
      "Requirement already satisfied: datasets>=2.0.0 in c:\\users\\uurce\\anaconda3\\envs\\texts\\lib\\site-packages (from evaluate==0.4.1) (2.17.0)\n",
      "Requirement already satisfied: numpy>=1.17 in c:\\users\\uurce\\anaconda3\\envs\\texts\\lib\\site-packages (from evaluate==0.4.1) (1.24.4)\n",
      "Requirement already satisfied: dill in c:\\users\\uurce\\anaconda3\\envs\\texts\\lib\\site-packages (from evaluate==0.4.1) (0.3.8)\n",
      "Requirement already satisfied: pandas in c:\\users\\uurce\\anaconda3\\envs\\texts\\lib\\site-packages (from evaluate==0.4.1) (2.0.3)\n",
      "Requirement already satisfied: requests>=2.19.0 in c:\\users\\uurce\\anaconda3\\envs\\texts\\lib\\site-packages (from evaluate==0.4.1) (2.31.0)\n",
      "Requirement already satisfied: tqdm>=4.62.1 in c:\\users\\uurce\\anaconda3\\envs\\texts\\lib\\site-packages (from evaluate==0.4.1) (4.66.2)\n",
      "Requirement already satisfied: xxhash in c:\\users\\uurce\\anaconda3\\envs\\texts\\lib\\site-packages (from evaluate==0.4.1) (3.4.1)\n",
      "Requirement already satisfied: multiprocess in c:\\users\\uurce\\anaconda3\\envs\\texts\\lib\\site-packages (from evaluate==0.4.1) (0.70.16)\n",
      "Requirement already satisfied: fsspec>=2021.05.0 in c:\\users\\uurce\\anaconda3\\envs\\texts\\lib\\site-packages (from fsspec[http]>=2021.05.0->evaluate==0.4.1) (2023.10.0)\n",
      "Requirement already satisfied: huggingface-hub>=0.7.0 in c:\\users\\uurce\\anaconda3\\envs\\texts\\lib\\site-packages (from evaluate==0.4.1) (0.21.4)\n",
      "Requirement already satisfied: packaging in c:\\users\\uurce\\anaconda3\\envs\\texts\\lib\\site-packages (from evaluate==0.4.1) (24.0)\n",
      "Requirement already satisfied: responses<0.19 in c:\\users\\uurce\\anaconda3\\envs\\texts\\lib\\site-packages (from evaluate==0.4.1) (0.18.0)\n",
      "Requirement already satisfied: filelock in c:\\users\\uurce\\anaconda3\\envs\\texts\\lib\\site-packages (from datasets>=2.0.0->evaluate==0.4.1) (3.13.1)\n",
      "Requirement already satisfied: pyarrow>=12.0.0 in c:\\users\\uurce\\anaconda3\\envs\\texts\\lib\\site-packages (from datasets>=2.0.0->evaluate==0.4.1) (15.0.2)\n",
      "Requirement already satisfied: pyarrow-hotfix in c:\\users\\uurce\\anaconda3\\envs\\texts\\lib\\site-packages (from datasets>=2.0.0->evaluate==0.4.1) (0.6)\n",
      "Requirement already satisfied: aiohttp in c:\\users\\uurce\\anaconda3\\envs\\texts\\lib\\site-packages (from datasets>=2.0.0->evaluate==0.4.1) (3.9.3)\n",
      "Requirement already satisfied: pyyaml>=5.1 in c:\\users\\uurce\\anaconda3\\envs\\texts\\lib\\site-packages (from datasets>=2.0.0->evaluate==0.4.1) (6.0.1)\n",
      "Requirement already satisfied: typing-extensions>=3.7.4.3 in c:\\users\\uurce\\anaconda3\\envs\\texts\\lib\\site-packages (from huggingface-hub>=0.7.0->evaluate==0.4.1) (4.10.0)\n",
      "Requirement already satisfied: charset-normalizer<4,>=2 in c:\\users\\uurce\\anaconda3\\envs\\texts\\lib\\site-packages (from requests>=2.19.0->evaluate==0.4.1) (3.3.2)\n",
      "Requirement already satisfied: idna<4,>=2.5 in c:\\users\\uurce\\anaconda3\\envs\\texts\\lib\\site-packages (from requests>=2.19.0->evaluate==0.4.1) (3.6)\n",
      "Requirement already satisfied: urllib3<3,>=1.21.1 in c:\\users\\uurce\\anaconda3\\envs\\texts\\lib\\site-packages (from requests>=2.19.0->evaluate==0.4.1) (1.26.18)\n",
      "Requirement already satisfied: certifi>=2017.4.17 in c:\\users\\uurce\\anaconda3\\envs\\texts\\lib\\site-packages (from requests>=2.19.0->evaluate==0.4.1) (2024.2.2)\n",
      "Requirement already satisfied: colorama in c:\\users\\uurce\\anaconda3\\envs\\texts\\lib\\site-packages (from tqdm>=4.62.1->evaluate==0.4.1) (0.4.6)\n",
      "Requirement already satisfied: python-dateutil>=2.8.2 in c:\\users\\uurce\\anaconda3\\envs\\texts\\lib\\site-packages (from pandas->evaluate==0.4.1) (2.9.0)\n",
      "Requirement already satisfied: pytz>=2020.1 in c:\\users\\uurce\\anaconda3\\envs\\texts\\lib\\site-packages (from pandas->evaluate==0.4.1) (2024.1)\n",
      "Requirement already satisfied: tzdata>=2022.1 in c:\\users\\uurce\\anaconda3\\envs\\texts\\lib\\site-packages (from pandas->evaluate==0.4.1) (2024.1)\n",
      "Requirement already satisfied: aiosignal>=1.1.2 in c:\\users\\uurce\\anaconda3\\envs\\texts\\lib\\site-packages (from aiohttp->datasets>=2.0.0->evaluate==0.4.1) (1.3.1)\n",
      "Requirement already satisfied: attrs>=17.3.0 in c:\\users\\uurce\\anaconda3\\envs\\texts\\lib\\site-packages (from aiohttp->datasets>=2.0.0->evaluate==0.4.1) (23.2.0)\n",
      "Requirement already satisfied: frozenlist>=1.1.1 in c:\\users\\uurce\\anaconda3\\envs\\texts\\lib\\site-packages (from aiohttp->datasets>=2.0.0->evaluate==0.4.1) (1.4.1)\n",
      "Requirement already satisfied: multidict<7.0,>=4.5 in c:\\users\\uurce\\anaconda3\\envs\\texts\\lib\\site-packages (from aiohttp->datasets>=2.0.0->evaluate==0.4.1) (6.0.5)\n",
      "Requirement already satisfied: yarl<2.0,>=1.0 in c:\\users\\uurce\\anaconda3\\envs\\texts\\lib\\site-packages (from aiohttp->datasets>=2.0.0->evaluate==0.4.1) (1.9.4)\n",
      "Requirement already satisfied: async-timeout<5.0,>=4.0 in c:\\users\\uurce\\anaconda3\\envs\\texts\\lib\\site-packages (from aiohttp->datasets>=2.0.0->evaluate==0.4.1) (4.0.3)\n",
      "Requirement already satisfied: six>=1.5 in c:\\users\\uurce\\anaconda3\\envs\\texts\\lib\\site-packages (from python-dateutil>=2.8.2->pandas->evaluate==0.4.1) (1.16.0)\n",
      "Requirement already satisfied: rouge-score==0.1.2 in c:\\users\\uurce\\anaconda3\\envs\\texts\\lib\\site-packages (0.1.2)\n",
      "Requirement already satisfied: absl-py in c:\\users\\uurce\\anaconda3\\envs\\texts\\lib\\site-packages (from rouge-score==0.1.2) (2.1.0)\n",
      "Requirement already satisfied: nltk in c:\\users\\uurce\\anaconda3\\envs\\texts\\lib\\site-packages (from rouge-score==0.1.2) (3.8.1)\n",
      "Requirement already satisfied: numpy in c:\\users\\uurce\\anaconda3\\envs\\texts\\lib\\site-packages (from rouge-score==0.1.2) (1.24.4)\n",
      "Requirement already satisfied: six>=1.14.0 in c:\\users\\uurce\\anaconda3\\envs\\texts\\lib\\site-packages (from rouge-score==0.1.2) (1.16.0)\n",
      "Requirement already satisfied: click in c:\\users\\uurce\\anaconda3\\envs\\texts\\lib\\site-packages (from nltk->rouge-score==0.1.2) (8.1.7)\n",
      "Requirement already satisfied: joblib in c:\\users\\uurce\\anaconda3\\envs\\texts\\lib\\site-packages (from nltk->rouge-score==0.1.2) (1.3.2)\n",
      "Requirement already satisfied: regex>=2021.8.3 in c:\\users\\uurce\\anaconda3\\envs\\texts\\lib\\site-packages (from nltk->rouge-score==0.1.2) (2023.12.25)\n",
      "Requirement already satisfied: tqdm in c:\\users\\uurce\\anaconda3\\envs\\texts\\lib\\site-packages (from nltk->rouge-score==0.1.2) (4.66.2)\n",
      "Requirement already satisfied: colorama in c:\\users\\uurce\\anaconda3\\envs\\texts\\lib\\site-packages (from click->nltk->rouge-score==0.1.2) (0.4.6)\n"
     ]
    }
   ],
   "source": [
    "\n",
    "!pip install transformers[sentencepiece] datasets sacrebleu rouge_score py7zr -q\n",
    "!pip install transformers==4.37.2\n",
    "!pip install datasets==2.17.0\n",
    "!pip install evaluate==0.4.1\n",
    "!pip install rouge-score==0.1.2"
   ]
  },
  {
   "cell_type": "code",
   "execution_count": 3,
   "metadata": {},
   "outputs": [
    {
     "name": "stderr",
     "output_type": "stream",
     "text": [
      "c:\\Users\\uurce\\anaconda3\\envs\\textS\\lib\\site-packages\\tqdm\\auto.py:21: TqdmWarning: IProgress not found. Please update jupyter and ipywidgets. See https://ipywidgets.readthedocs.io/en/stable/user_install.html\n",
      "  from .autonotebook import tqdm as notebook_tqdm\n"
     ]
    }
   ],
   "source": [
    "import matplotlib.pyplot as plt\n",
    "import pandas as pd\n",
    "\n",
    "import nltk\n",
    "from nltk.tokenize import sent_tokenize\n",
    "\n",
    "import torch\n",
    "\n",
    "from tqdm import tqdm\n",
    "\n",
    "from datasets import load_dataset, load_from_disk, load_metric\n",
    "\n",
    "from transformers import AutoModelForSeq2SeqLM, AutoTokenizer, pipeline, set_seed\n"
   ]
  },
  {
   "cell_type": "code",
   "execution_count": 4,
   "metadata": {},
   "outputs": [
    {
     "name": "stdout",
     "output_type": "stream",
     "text": [
      "Token has not been saved to git credential helper. Pass `add_to_git_credential=True` if you want to set the git credential as well.\n"
     ]
    },
    {
     "ename": "ValueError",
     "evalue": "Invalid token passed!",
     "output_type": "error",
     "traceback": [
      "\u001b[1;31m---------------------------------------------------------------------------\u001b[0m",
      "\u001b[1;31mValueError\u001b[0m                                Traceback (most recent call last)",
      "Cell \u001b[1;32mIn[4], line 3\u001b[0m\n\u001b[0;32m      1\u001b[0m \u001b[38;5;28;01mimport\u001b[39;00m \u001b[38;5;21;01mhuggingface_hub\u001b[39;00m\n\u001b[1;32m----> 3\u001b[0m \u001b[43mhuggingface_hub\u001b[49m\u001b[38;5;241;43m.\u001b[39;49m\u001b[43mlogin\u001b[49m\u001b[43m(\u001b[49m\u001b[43mtoken\u001b[49m\u001b[38;5;241;43m=\u001b[39;49m\u001b[38;5;124;43m\"\u001b[39;49m\u001b[38;5;124;43mTOKEN_API\u001b[39;49m\u001b[38;5;124;43m\"\u001b[39;49m\u001b[43m)\u001b[49m\n",
      "File \u001b[1;32mc:\\Users\\uurce\\anaconda3\\envs\\textS\\lib\\site-packages\\huggingface_hub\\_login.py:109\u001b[0m, in \u001b[0;36mlogin\u001b[1;34m(token, add_to_git_credential, new_session, write_permission)\u001b[0m\n\u001b[0;32m    103\u001b[0m     \u001b[38;5;28;01mif\u001b[39;00m \u001b[38;5;129;01mnot\u001b[39;00m add_to_git_credential:\n\u001b[0;32m    104\u001b[0m         \u001b[38;5;28mprint\u001b[39m(\n\u001b[0;32m    105\u001b[0m             \u001b[38;5;124m\"\u001b[39m\u001b[38;5;124mToken has not been saved to git credential helper. Pass\u001b[39m\u001b[38;5;124m\"\u001b[39m\n\u001b[0;32m    106\u001b[0m             \u001b[38;5;124m\"\u001b[39m\u001b[38;5;124m `add_to_git_credential=True` if you want to set the git\u001b[39m\u001b[38;5;124m\"\u001b[39m\n\u001b[0;32m    107\u001b[0m             \u001b[38;5;124m\"\u001b[39m\u001b[38;5;124m credential as well.\u001b[39m\u001b[38;5;124m\"\u001b[39m\n\u001b[0;32m    108\u001b[0m         )\n\u001b[1;32m--> 109\u001b[0m     \u001b[43m_login\u001b[49m\u001b[43m(\u001b[49m\u001b[43mtoken\u001b[49m\u001b[43m,\u001b[49m\u001b[43m \u001b[49m\u001b[43madd_to_git_credential\u001b[49m\u001b[38;5;241;43m=\u001b[39;49m\u001b[43madd_to_git_credential\u001b[49m\u001b[43m,\u001b[49m\u001b[43m \u001b[49m\u001b[43mwrite_permission\u001b[49m\u001b[38;5;241;43m=\u001b[39;49m\u001b[43mwrite_permission\u001b[49m\u001b[43m)\u001b[49m\n\u001b[0;32m    110\u001b[0m \u001b[38;5;28;01melif\u001b[39;00m is_notebook():\n\u001b[0;32m    111\u001b[0m     notebook_login(new_session\u001b[38;5;241m=\u001b[39mnew_session, write_permission\u001b[38;5;241m=\u001b[39mwrite_permission)\n",
      "File \u001b[1;32mc:\\Users\\uurce\\anaconda3\\envs\\textS\\lib\\site-packages\\huggingface_hub\\_login.py:305\u001b[0m, in \u001b[0;36m_login\u001b[1;34m(token, add_to_git_credential, write_permission)\u001b[0m\n\u001b[0;32m    303\u001b[0m permission \u001b[38;5;241m=\u001b[39m get_token_permission(token)\n\u001b[0;32m    304\u001b[0m \u001b[38;5;28;01mif\u001b[39;00m permission \u001b[38;5;129;01mis\u001b[39;00m \u001b[38;5;28;01mNone\u001b[39;00m:\n\u001b[1;32m--> 305\u001b[0m     \u001b[38;5;28;01mraise\u001b[39;00m \u001b[38;5;167;01mValueError\u001b[39;00m(\u001b[38;5;124m\"\u001b[39m\u001b[38;5;124mInvalid token passed!\u001b[39m\u001b[38;5;124m\"\u001b[39m)\n\u001b[0;32m    306\u001b[0m \u001b[38;5;28;01melif\u001b[39;00m write_permission \u001b[38;5;129;01mand\u001b[39;00m permission \u001b[38;5;241m!=\u001b[39m \u001b[38;5;124m\"\u001b[39m\u001b[38;5;124mwrite\u001b[39m\u001b[38;5;124m\"\u001b[39m:\n\u001b[0;32m    307\u001b[0m     \u001b[38;5;28;01mraise\u001b[39;00m \u001b[38;5;167;01mValueError\u001b[39;00m(\n\u001b[0;32m    308\u001b[0m         \u001b[38;5;124m\"\u001b[39m\u001b[38;5;124mToken is valid but is \u001b[39m\u001b[38;5;124m'\u001b[39m\u001b[38;5;124mread-only\u001b[39m\u001b[38;5;124m'\u001b[39m\u001b[38;5;124m and a \u001b[39m\u001b[38;5;124m'\u001b[39m\u001b[38;5;124mwrite\u001b[39m\u001b[38;5;124m'\u001b[39m\u001b[38;5;124m token is required.\u001b[39m\u001b[38;5;130;01m\\n\u001b[39;00m\u001b[38;5;124mPlease provide a new token with\u001b[39m\u001b[38;5;124m\"\u001b[39m\n\u001b[0;32m    309\u001b[0m         \u001b[38;5;124m\"\u001b[39m\u001b[38;5;124m correct permission.\u001b[39m\u001b[38;5;124m\"\u001b[39m\n\u001b[0;32m    310\u001b[0m     )\n",
      "\u001b[1;31mValueError\u001b[0m: Invalid token passed!"
     ]
    }
   ],
   "source": [
    "import huggingface_hub\n",
    "\n",
    "huggingface_hub.login(token=\"TOKEN_API\")"
   ]
  },
  {
   "cell_type": "code",
   "execution_count": 6,
   "metadata": {},
   "outputs": [],
   "source": [
    "device = \"cuda\" if torch.cuda.is_available() else \"cpu\"\n",
    "\n",
    "model_ckpt = \"facebook/bart-large-xsum\"\n",
    "\n",
    "tokenizer = AutoTokenizer.from_pretrained(model_ckpt)\n",
    "\n",
    "model = AutoModelForSeq2SeqLM.from_pretrained(model_ckpt).to(device)"
   ]
  },
  {
   "cell_type": "markdown",
   "metadata": {},
   "source": [
    "### Load Dataset"
   ]
  },
  {
   "cell_type": "code",
   "execution_count": 7,
   "metadata": {},
   "outputs": [
    {
     "name": "stdout",
     "output_type": "stream",
     "text": [
      "Downloaded and extracted the ZIP file successfully.\n"
     ]
    }
   ],
   "source": [
    "import requests\n",
    "import zipfile\n",
    "import os\n",
    "\n",
    "# Define the URL of the ZIP file\n",
    "url = 'https://github.com/entbappy/Branching-tutorial/raw/master/summarizer-data.zip'\n",
    "\n",
    "# Define the file paths\n",
    "zip_file_path = 'summarizer-data.zip'\n",
    "extracted_folder_path = 'summarizer-data'\n",
    "\n",
    "# Download the ZIP file\n",
    "response = requests.get(url)\n",
    "with open(zip_file_path, 'wb') as zip_file:\n",
    "    zip_file.write(response.content)\n",
    "\n",
    "# Extract the contents of the ZIP file\n",
    "with zipfile.ZipFile(zip_file_path, 'r') as zip_ref:\n",
    "    zip_ref.extractall(extracted_folder_path)\n",
    "\n",
    "# Remove the ZIP file\n",
    "os.remove(zip_file_path)\n",
    "\n",
    "print('Downloaded and extracted the ZIP file successfully.')\n"
   ]
  },
  {
   "cell_type": "code",
   "execution_count": 8,
   "metadata": {},
   "outputs": [
    {
     "data": {
      "text/plain": [
       "DatasetDict({\n",
       "    train: Dataset({\n",
       "        features: ['id', 'dialogue', 'summary'],\n",
       "        num_rows: 14732\n",
       "    })\n",
       "    test: Dataset({\n",
       "        features: ['id', 'dialogue', 'summary'],\n",
       "        num_rows: 819\n",
       "    })\n",
       "    validation: Dataset({\n",
       "        features: ['id', 'dialogue', 'summary'],\n",
       "        num_rows: 818\n",
       "    })\n",
       "})"
      ]
     },
     "execution_count": 8,
     "metadata": {},
     "output_type": "execute_result"
    }
   ],
   "source": [
    "dataset = load_from_disk(\"summarizer-data/samsum_dataset/\")\n",
    "dataset"
   ]
  },
  {
   "cell_type": "code",
   "execution_count": 9,
   "metadata": {},
   "outputs": [
    {
     "name": "stdout",
     "output_type": "stream",
     "text": [
      "Split lengths: [14732, 819, 818]\n",
      "Features: ['id', 'dialogue', 'summary']\n",
      "\n",
      "Dialogue:\n",
      "Eric: MACHINE!\n",
      "Rob: That's so gr8!\n",
      "Eric: I know! And shows how Americans see Russian ;)\n",
      "Rob: And it's really funny!\n",
      "Eric: I know! I especially like the train part!\n",
      "Rob: Hahaha! No one talks to the machine like that!\n",
      "Eric: Is this his only stand-up?\n",
      "Rob: Idk. I'll check.\n",
      "Eric: Sure.\n",
      "Rob: Turns out no! There are some of his stand-ups on youtube.\n",
      "Eric: Gr8! I'll watch them now!\n",
      "Rob: Me too!\n",
      "Eric: MACHINE!\n",
      "Rob: MACHINE!\n",
      "Eric: TTYL?\n",
      "Rob: Sure :)\n",
      "\n",
      "Summary:\n",
      "Eric and Rob are going to watch a stand-up on youtube.\n"
     ]
    }
   ],
   "source": [
    "# Calculate split lengths\n",
    "split_lengths = [len(dataset[split]) for split in dataset]\n",
    "\n",
    "\n",
    "print(\"Split lengths:\", split_lengths)\n",
    "\n",
    "\n",
    "print(\"Features:\", dataset['train'].column_names)\n",
    "\n",
    "\n",
    "print(\"\\nDialogue:\")\n",
    "print(dataset[\"test\"][1][\"dialogue\"])\n",
    "\n",
    "\n",
    "print(\"\\nSummary:\")\n",
    "print(dataset[\"test\"][1][\"summary\"])\n"
   ]
  },
  {
   "cell_type": "code",
   "execution_count": 12,
   "metadata": {},
   "outputs": [],
   "source": [
    "train_df = pd.DataFrame(dataset[\"train\"])\n",
    "test_df = pd.DataFrame(dataset[\"test\"])\n",
    "validation_df = pd.DataFrame(dataset[\"validation\"])\n"
   ]
  },
  {
   "cell_type": "code",
   "execution_count": null,
   "metadata": {},
   "outputs": [],
   "source": []
  }
 ],
 "metadata": {
  "kernelspec": {
   "display_name": "textS",
   "language": "python",
   "name": "python3"
  },
  "language_info": {
   "codemirror_mode": {
    "name": "ipython",
    "version": 3
   },
   "file_extension": ".py",
   "mimetype": "text/x-python",
   "name": "python",
   "nbconvert_exporter": "python",
   "pygments_lexer": "ipython3",
   "version": "3.8.0"
  }
 },
 "nbformat": 4,
 "nbformat_minor": 2
}
